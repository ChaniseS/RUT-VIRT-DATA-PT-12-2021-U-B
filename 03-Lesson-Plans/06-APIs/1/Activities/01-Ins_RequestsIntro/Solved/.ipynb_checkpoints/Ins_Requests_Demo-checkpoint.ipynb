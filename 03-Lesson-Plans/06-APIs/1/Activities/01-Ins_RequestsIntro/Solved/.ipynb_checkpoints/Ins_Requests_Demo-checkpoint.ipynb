{
 "cells": [
  {
   "cell_type": "code",
   "execution_count": 6,
   "metadata": {},
   "outputs": [
    {
     "name": "stdout",
     "output_type": "stream",
     "text": [
      "Requirement already satisfied: gmaps in /opt/miniconda3/lib/python3.9/site-packages (0.9.0)\n",
      "Requirement already satisfied: ipywidgets>=7.0.0 in /opt/miniconda3/lib/python3.9/site-packages (from gmaps) (7.6.5)\n",
      "Requirement already satisfied: geojson>=2.0.0 in /opt/miniconda3/lib/python3.9/site-packages (from gmaps) (2.5.0)\n",
      "Requirement already satisfied: six in /opt/miniconda3/lib/python3.9/site-packages (from gmaps) (1.16.0)\n",
      "Requirement already satisfied: ipython>=5.3.0 in /opt/miniconda3/lib/python3.9/site-packages (from gmaps) (8.0.0)\n",
      "Requirement already satisfied: traitlets>=4.3.0 in /opt/miniconda3/lib/python3.9/site-packages (from gmaps) (5.1.1)\n",
      "Requirement already satisfied: pexpect>4.3 in /opt/miniconda3/lib/python3.9/site-packages (from ipython>=5.3.0->gmaps) (4.8.0)\n",
      "Requirement already satisfied: black in /opt/miniconda3/lib/python3.9/site-packages (from ipython>=5.3.0->gmaps) (21.12b0)\n",
      "Requirement already satisfied: decorator in /opt/miniconda3/lib/python3.9/site-packages (from ipython>=5.3.0->gmaps) (5.1.1)\n",
      "Requirement already satisfied: matplotlib-inline in /opt/miniconda3/lib/python3.9/site-packages (from ipython>=5.3.0->gmaps) (0.1.3)\n",
      "Requirement already satisfied: prompt-toolkit!=3.0.0,!=3.0.1,<3.1.0,>=2.0.0 in /opt/miniconda3/lib/python3.9/site-packages (from ipython>=5.3.0->gmaps) (3.0.24)\n",
      "Requirement already satisfied: pickleshare in /opt/miniconda3/lib/python3.9/site-packages (from ipython>=5.3.0->gmaps) (0.7.5)\n",
      "Requirement already satisfied: stack-data in /opt/miniconda3/lib/python3.9/site-packages (from ipython>=5.3.0->gmaps) (0.1.4)\n",
      "Requirement already satisfied: pygments in /opt/miniconda3/lib/python3.9/site-packages (from ipython>=5.3.0->gmaps) (2.11.2)\n",
      "Requirement already satisfied: appnope in /opt/miniconda3/lib/python3.9/site-packages (from ipython>=5.3.0->gmaps) (0.1.2)\n",
      "Requirement already satisfied: setuptools>=18.5 in /opt/miniconda3/lib/python3.9/site-packages (from ipython>=5.3.0->gmaps) (52.0.0.post20210125)\n",
      "Requirement already satisfied: backcall in /opt/miniconda3/lib/python3.9/site-packages (from ipython>=5.3.0->gmaps) (0.2.0)\n",
      "Requirement already satisfied: jedi>=0.16 in /opt/miniconda3/lib/python3.9/site-packages (from ipython>=5.3.0->gmaps) (0.18.1)\n",
      "Requirement already satisfied: ipython-genutils~=0.2.0 in /opt/miniconda3/lib/python3.9/site-packages (from ipywidgets>=7.0.0->gmaps) (0.2.0)\n",
      "Requirement already satisfied: jupyterlab-widgets>=1.0.0 in /opt/miniconda3/lib/python3.9/site-packages (from ipywidgets>=7.0.0->gmaps) (1.0.2)\n",
      "Requirement already satisfied: nbformat>=4.2.0 in /opt/miniconda3/lib/python3.9/site-packages (from ipywidgets>=7.0.0->gmaps) (5.1.3)\n",
      "Requirement already satisfied: ipykernel>=4.5.1 in /opt/miniconda3/lib/python3.9/site-packages (from ipywidgets>=7.0.0->gmaps) (6.7.0)\n",
      "Requirement already satisfied: widgetsnbextension~=3.5.0 in /opt/miniconda3/lib/python3.9/site-packages (from ipywidgets>=7.0.0->gmaps) (3.5.2)\n",
      "Requirement already satisfied: tornado<7.0,>=4.2 in /opt/miniconda3/lib/python3.9/site-packages (from ipykernel>=4.5.1->ipywidgets>=7.0.0->gmaps) (6.1)\n",
      "Requirement already satisfied: nest-asyncio in /opt/miniconda3/lib/python3.9/site-packages (from ipykernel>=4.5.1->ipywidgets>=7.0.0->gmaps) (1.5.4)\n",
      "Requirement already satisfied: debugpy<2.0,>=1.0.0 in /opt/miniconda3/lib/python3.9/site-packages (from ipykernel>=4.5.1->ipywidgets>=7.0.0->gmaps) (1.5.1)\n",
      "Requirement already satisfied: jupyter-client<8.0 in /opt/miniconda3/lib/python3.9/site-packages (from ipykernel>=4.5.1->ipywidgets>=7.0.0->gmaps) (7.1.1)\n",
      "Requirement already satisfied: parso<0.9.0,>=0.8.0 in /opt/miniconda3/lib/python3.9/site-packages (from jedi>=0.16->ipython>=5.3.0->gmaps) (0.8.3)\n",
      "Requirement already satisfied: python-dateutil>=2.1 in /opt/miniconda3/lib/python3.9/site-packages (from jupyter-client<8.0->ipykernel>=4.5.1->ipywidgets>=7.0.0->gmaps) (2.8.2)\n",
      "Requirement already satisfied: entrypoints in /opt/miniconda3/lib/python3.9/site-packages (from jupyter-client<8.0->ipykernel>=4.5.1->ipywidgets>=7.0.0->gmaps) (0.3)\n",
      "Requirement already satisfied: pyzmq>=13 in /opt/miniconda3/lib/python3.9/site-packages (from jupyter-client<8.0->ipykernel>=4.5.1->ipywidgets>=7.0.0->gmaps) (22.3.0)\n",
      "Requirement already satisfied: jupyter-core>=4.6.0 in /opt/miniconda3/lib/python3.9/site-packages (from jupyter-client<8.0->ipykernel>=4.5.1->ipywidgets>=7.0.0->gmaps) (4.9.1)\n",
      "Requirement already satisfied: jsonschema!=2.5.0,>=2.4 in /opt/miniconda3/lib/python3.9/site-packages (from nbformat>=4.2.0->ipywidgets>=7.0.0->gmaps) (4.4.0)\n",
      "Requirement already satisfied: pyrsistent!=0.17.0,!=0.17.1,!=0.17.2,>=0.14.0 in /opt/miniconda3/lib/python3.9/site-packages (from jsonschema!=2.5.0,>=2.4->nbformat>=4.2.0->ipywidgets>=7.0.0->gmaps) (0.18.1)\n",
      "Requirement already satisfied: attrs>=17.4.0 in /opt/miniconda3/lib/python3.9/site-packages (from jsonschema!=2.5.0,>=2.4->nbformat>=4.2.0->ipywidgets>=7.0.0->gmaps) (21.4.0)\n",
      "Requirement already satisfied: ptyprocess>=0.5 in /opt/miniconda3/lib/python3.9/site-packages (from pexpect>4.3->ipython>=5.3.0->gmaps) (0.7.0)\n",
      "Requirement already satisfied: wcwidth in /opt/miniconda3/lib/python3.9/site-packages (from prompt-toolkit!=3.0.0,!=3.0.1,<3.1.0,>=2.0.0->ipython>=5.3.0->gmaps) (0.2.5)\n",
      "Requirement already satisfied: notebook>=4.4.1 in /opt/miniconda3/lib/python3.9/site-packages (from widgetsnbextension~=3.5.0->ipywidgets>=7.0.0->gmaps) (6.4.7)\n",
      "Requirement already satisfied: jinja2 in /opt/miniconda3/lib/python3.9/site-packages (from notebook>=4.4.1->widgetsnbextension~=3.5.0->ipywidgets>=7.0.0->gmaps) (3.0.3)\n",
      "Requirement already satisfied: Send2Trash>=1.8.0 in /opt/miniconda3/lib/python3.9/site-packages (from notebook>=4.4.1->widgetsnbextension~=3.5.0->ipywidgets>=7.0.0->gmaps) (1.8.0)\n",
      "Requirement already satisfied: prometheus-client in /opt/miniconda3/lib/python3.9/site-packages (from notebook>=4.4.1->widgetsnbextension~=3.5.0->ipywidgets>=7.0.0->gmaps) (0.12.0)\n",
      "Requirement already satisfied: terminado>=0.8.3 in /opt/miniconda3/lib/python3.9/site-packages (from notebook>=4.4.1->widgetsnbextension~=3.5.0->ipywidgets>=7.0.0->gmaps) (0.12.1)\n",
      "Requirement already satisfied: nbconvert in /opt/miniconda3/lib/python3.9/site-packages (from notebook>=4.4.1->widgetsnbextension~=3.5.0->ipywidgets>=7.0.0->gmaps) (6.4.0)\n",
      "Requirement already satisfied: argon2-cffi in /opt/miniconda3/lib/python3.9/site-packages (from notebook>=4.4.1->widgetsnbextension~=3.5.0->ipywidgets>=7.0.0->gmaps) (21.3.0)\n",
      "Requirement already satisfied: argon2-cffi-bindings in /opt/miniconda3/lib/python3.9/site-packages (from argon2-cffi->notebook>=4.4.1->widgetsnbextension~=3.5.0->ipywidgets>=7.0.0->gmaps) (21.2.0)\n",
      "Requirement already satisfied: cffi>=1.0.1 in /opt/miniconda3/lib/python3.9/site-packages (from argon2-cffi-bindings->argon2-cffi->notebook>=4.4.1->widgetsnbextension~=3.5.0->ipywidgets>=7.0.0->gmaps) (1.14.6)\n",
      "Requirement already satisfied: pycparser in /opt/miniconda3/lib/python3.9/site-packages (from cffi>=1.0.1->argon2-cffi-bindings->argon2-cffi->notebook>=4.4.1->widgetsnbextension~=3.5.0->ipywidgets>=7.0.0->gmaps) (2.20)\n",
      "Requirement already satisfied: pathspec<1,>=0.9.0 in /opt/miniconda3/lib/python3.9/site-packages (from black->ipython>=5.3.0->gmaps) (0.9.0)\n",
      "Requirement already satisfied: click>=7.1.2 in /opt/miniconda3/lib/python3.9/site-packages (from black->ipython>=5.3.0->gmaps) (8.0.3)\n",
      "Requirement already satisfied: typing-extensions>=3.10.0.0 in /opt/miniconda3/lib/python3.9/site-packages (from black->ipython>=5.3.0->gmaps) (4.0.1)\n",
      "Requirement already satisfied: tomli<2.0.0,>=0.2.6 in /opt/miniconda3/lib/python3.9/site-packages (from black->ipython>=5.3.0->gmaps) (1.2.3)\n",
      "Requirement already satisfied: mypy-extensions>=0.4.3 in /opt/miniconda3/lib/python3.9/site-packages (from black->ipython>=5.3.0->gmaps) (0.4.3)\n",
      "Requirement already satisfied: platformdirs>=2 in /opt/miniconda3/lib/python3.9/site-packages (from black->ipython>=5.3.0->gmaps) (2.4.1)\n",
      "Requirement already satisfied: MarkupSafe>=2.0 in /opt/miniconda3/lib/python3.9/site-packages (from jinja2->notebook>=4.4.1->widgetsnbextension~=3.5.0->ipywidgets>=7.0.0->gmaps) (2.0.1)\n",
      "Requirement already satisfied: nbclient<0.6.0,>=0.5.0 in /opt/miniconda3/lib/python3.9/site-packages (from nbconvert->notebook>=4.4.1->widgetsnbextension~=3.5.0->ipywidgets>=7.0.0->gmaps) (0.5.10)\n",
      "Requirement already satisfied: mistune<2,>=0.8.1 in /opt/miniconda3/lib/python3.9/site-packages (from nbconvert->notebook>=4.4.1->widgetsnbextension~=3.5.0->ipywidgets>=7.0.0->gmaps) (0.8.4)\n",
      "Requirement already satisfied: jupyterlab-pygments in /opt/miniconda3/lib/python3.9/site-packages (from nbconvert->notebook>=4.4.1->widgetsnbextension~=3.5.0->ipywidgets>=7.0.0->gmaps) (0.1.2)\n",
      "Requirement already satisfied: defusedxml in /opt/miniconda3/lib/python3.9/site-packages (from nbconvert->notebook>=4.4.1->widgetsnbextension~=3.5.0->ipywidgets>=7.0.0->gmaps) (0.7.1)\n"
     ]
    },
    {
     "name": "stdout",
     "output_type": "stream",
     "text": [
      "Requirement already satisfied: pandocfilters>=1.4.1 in /opt/miniconda3/lib/python3.9/site-packages (from nbconvert->notebook>=4.4.1->widgetsnbextension~=3.5.0->ipywidgets>=7.0.0->gmaps) (1.5.0)\n",
      "Requirement already satisfied: testpath in /opt/miniconda3/lib/python3.9/site-packages (from nbconvert->notebook>=4.4.1->widgetsnbextension~=3.5.0->ipywidgets>=7.0.0->gmaps) (0.5.0)\n",
      "Requirement already satisfied: bleach in /opt/miniconda3/lib/python3.9/site-packages (from nbconvert->notebook>=4.4.1->widgetsnbextension~=3.5.0->ipywidgets>=7.0.0->gmaps) (4.1.0)\n",
      "Requirement already satisfied: webencodings in /opt/miniconda3/lib/python3.9/site-packages (from bleach->nbconvert->notebook>=4.4.1->widgetsnbextension~=3.5.0->ipywidgets>=7.0.0->gmaps) (0.5.1)\n",
      "Requirement already satisfied: packaging in /opt/miniconda3/lib/python3.9/site-packages (from bleach->nbconvert->notebook>=4.4.1->widgetsnbextension~=3.5.0->ipywidgets>=7.0.0->gmaps) (21.3)\n",
      "Requirement already satisfied: pyparsing!=3.0.5,>=2.0.2 in /opt/miniconda3/lib/python3.9/site-packages (from packaging->bleach->nbconvert->notebook>=4.4.1->widgetsnbextension~=3.5.0->ipywidgets>=7.0.0->gmaps) (3.0.6)\n",
      "Requirement already satisfied: pure-eval in /opt/miniconda3/lib/python3.9/site-packages (from stack-data->ipython>=5.3.0->gmaps) (0.2.1)\n",
      "Requirement already satisfied: asttokens in /opt/miniconda3/lib/python3.9/site-packages (from stack-data->ipython>=5.3.0->gmaps) (2.0.5)\n",
      "Requirement already satisfied: executing in /opt/miniconda3/lib/python3.9/site-packages (from stack-data->ipython>=5.3.0->gmaps) (0.8.2)\n"
     ]
    }
   ],
   "source": [
    "!pip3 install gmaps"
   ]
  },
  {
   "cell_type": "code",
   "execution_count": null,
   "metadata": {},
   "outputs": [],
   "source": [
    "# Dependencies\n",
    "import requests\n",
    "import json"
   ]
  },
  {
   "cell_type": "code",
   "execution_count": 2,
   "metadata": {},
   "outputs": [],
   "source": [
    "# URL for GET requests to retrieve vehicle data\n",
    "url = \"https://api.spacexdata.com/v2/launchpads\""
   ]
  },
  {
   "cell_type": "code",
   "execution_count": 3,
   "metadata": {},
   "outputs": [
    {
     "name": "stdout",
     "output_type": "stream",
     "text": [
      "<Response [200]>\n"
     ]
    }
   ],
   "source": [
    "# Print the response object to the console\n",
    "print(requests.get(url))"
   ]
  },
  {
   "cell_type": "code",
   "execution_count": 4,
   "metadata": {},
   "outputs": [
    {
     "name": "stdout",
     "output_type": "stream",
     "text": [
      "[{'padid': 5, 'id': 'vafb_slc_3w', 'name': 'VAFB SLC 3W', 'full_name': 'Vandenberg Air Force Base Space Launch Complex 3W', 'status': 'retired', 'location': {'name': 'Vandenberg Air Force Base', 'region': 'California', 'latitude': 34.6440904, 'longitude': -120.5931438}, 'vehicles_launched': ['Falcon 1'], 'attempted_launches': 0, 'successful_launches': 0, 'wikipedia': 'https://en.wikipedia.org/wiki/Vandenberg_AFB_Space_Launch_Complex_3', 'details': 'SpaceX original west coast launch pad for Falcon 1. Performed a static fire but was never used for a launch and abandoned due to scheduling conflicts.'}, {'padid': 2, 'id': 'ccafs_slc_40', 'name': 'CCAFS SLC 40', 'full_name': 'Cape Canaveral Air Force Station Space Launch Complex 40', 'status': 'active', 'location': {'name': 'Cape Canaveral', 'region': 'Florida', 'latitude': 28.5618571, 'longitude': -80.577366}, 'vehicles_launched': ['Falcon 9'], 'attempted_launches': 61, 'successful_launches': 59, 'wikipedia': 'https://en.wikipedia.org/wiki/Cape_Canaveral_Air_Force_Station_Space_Launch_Complex_40', 'details': 'SpaceX primary Falcon 9 launch pad, where all east coast Falcon 9s launched prior to the AMOS-6 anomaly. Initially used to launch Titan rockets for Lockheed Martin. Back online since CRS-13 on 2017-12-15.'}, {'padid': 8, 'id': 'stls', 'name': 'STLS', 'full_name': 'SpaceX South Texas Launch Site', 'status': 'under construction', 'location': {'name': 'Boca Chica Village', 'region': 'Texas', 'latitude': 25.9972641, 'longitude': -97.1560845}, 'vehicles_launched': ['Falcon 9'], 'attempted_launches': 0, 'successful_launches': 0, 'wikipedia': 'https://en.wikipedia.org/wiki/SpaceX_South_Texas_Launch_Site', 'details': 'SpaceX new launch site currently under construction to help keep up with the Falcon 9 and Heavy manifests. Expected to be completed in late 2018. Initially will be limited to 12 flights per year, and only GTO launches.'}, {'padid': 1, 'id': 'kwajalein_atoll', 'name': 'Kwajalein Atoll', 'full_name': 'Kwajalein Atoll Omelek Island', 'status': 'retired', 'location': {'name': 'Omelek Island', 'region': 'Marshall Islands', 'latitude': 9.0477206, 'longitude': 167.7431292}, 'vehicles_launched': ['Falcon 1'], 'attempted_launches': 5, 'successful_launches': 2, 'wikipedia': 'https://en.wikipedia.org/wiki/Omelek_Island', 'details': 'SpaceX original launch site, where all of the Falcon 1 launches occured. Abandoned as SpaceX decided against upgrading the pad to support Falcon 9.'}, {'padid': 6, 'id': 'vafb_slc_4e', 'name': 'VAFB SLC 4E', 'full_name': 'Vandenberg Air Force Base Space Launch Complex 4E', 'status': 'active', 'location': {'name': 'Vandenberg Air Force Base', 'region': 'California', 'latitude': 34.632093, 'longitude': -120.610829}, 'vehicles_launched': ['Falcon 9'], 'attempted_launches': 16, 'successful_launches': 16, 'wikipedia': 'https://en.wikipedia.org/wiki/Vandenberg_AFB_Space_Launch_Complex_4', 'details': 'SpaceX primary west coast launch pad for polar orbits and sun synchronous orbits, primarily used for Iridium. Also intended to be capable of launching Falcon Heavy.'}, {'padid': 4, 'id': 'ksc_lc_39a', 'name': 'KSC LC 39A', 'full_name': 'Kennedy Space Center Historic Launch Complex 39A', 'status': 'active', 'location': {'name': 'Cape Canaveral', 'region': 'Florida', 'latitude': 28.6080585, 'longitude': -80.6039558}, 'vehicles_launched': ['Falcon 9', 'Falcon Heavy'], 'attempted_launches': 27, 'successful_launches': 26, 'wikipedia': 'https://en.wikipedia.org/wiki/Kennedy_Space_Center_Launch_Complex_39#Launch_Complex_39A', 'details': 'NASA historic launch pad that launched most of the Saturn V and Space Shuttle missions. Initially for Falcon Heavy launches, it is now launching all of SpaceX east coast missions due to the damage from the AMOS-6 anomaly. After SLC-40 repairs are complete, it will be upgraded to support Falcon Heavy, a process which will take about two months. In the future it will launch commercial crew missions and the Interplanetary Transport System.'}]\n"
     ]
    }
   ],
   "source": [
    "# Retrieving data and converting it into JSON\n",
    "print(requests.get(url).json())"
   ]
  },
  {
   "cell_type": "code",
   "execution_count": 5,
   "metadata": {},
   "outputs": [
    {
     "name": "stdout",
     "output_type": "stream",
     "text": [
      "[\n",
      "    {\n",
      "        \"attempted_launches\": 0,\n",
      "        \"details\": \"SpaceX original west coast launch pad for Falcon 1. Performed a static fire but was never used for a launch and abandoned due to scheduling conflicts.\",\n",
      "        \"full_name\": \"Vandenberg Air Force Base Space Launch Complex 3W\",\n",
      "        \"id\": \"vafb_slc_3w\",\n",
      "        \"location\": {\n",
      "            \"latitude\": 34.6440904,\n",
      "            \"longitude\": -120.5931438,\n",
      "            \"name\": \"Vandenberg Air Force Base\",\n",
      "            \"region\": \"California\"\n",
      "        },\n",
      "        \"name\": \"VAFB SLC 3W\",\n",
      "        \"padid\": 5,\n",
      "        \"status\": \"retired\",\n",
      "        \"successful_launches\": 0,\n",
      "        \"vehicles_launched\": [\n",
      "            \"Falcon 1\"\n",
      "        ],\n",
      "        \"wikipedia\": \"https://en.wikipedia.org/wiki/Vandenberg_AFB_Space_Launch_Complex_3\"\n",
      "    },\n",
      "    {\n",
      "        \"attempted_launches\": 61,\n",
      "        \"details\": \"SpaceX primary Falcon 9 launch pad, where all east coast Falcon 9s launched prior to the AMOS-6 anomaly. Initially used to launch Titan rockets for Lockheed Martin. Back online since CRS-13 on 2017-12-15.\",\n",
      "        \"full_name\": \"Cape Canaveral Air Force Station Space Launch Complex 40\",\n",
      "        \"id\": \"ccafs_slc_40\",\n",
      "        \"location\": {\n",
      "            \"latitude\": 28.5618571,\n",
      "            \"longitude\": -80.577366,\n",
      "            \"name\": \"Cape Canaveral\",\n",
      "            \"region\": \"Florida\"\n",
      "        },\n",
      "        \"name\": \"CCAFS SLC 40\",\n",
      "        \"padid\": 2,\n",
      "        \"status\": \"active\",\n",
      "        \"successful_launches\": 59,\n",
      "        \"vehicles_launched\": [\n",
      "            \"Falcon 9\"\n",
      "        ],\n",
      "        \"wikipedia\": \"https://en.wikipedia.org/wiki/Cape_Canaveral_Air_Force_Station_Space_Launch_Complex_40\"\n",
      "    },\n",
      "    {\n",
      "        \"attempted_launches\": 0,\n",
      "        \"details\": \"SpaceX new launch site currently under construction to help keep up with the Falcon 9 and Heavy manifests. Expected to be completed in late 2018. Initially will be limited to 12 flights per year, and only GTO launches.\",\n",
      "        \"full_name\": \"SpaceX South Texas Launch Site\",\n",
      "        \"id\": \"stls\",\n",
      "        \"location\": {\n",
      "            \"latitude\": 25.9972641,\n",
      "            \"longitude\": -97.1560845,\n",
      "            \"name\": \"Boca Chica Village\",\n",
      "            \"region\": \"Texas\"\n",
      "        },\n",
      "        \"name\": \"STLS\",\n",
      "        \"padid\": 8,\n",
      "        \"status\": \"under construction\",\n",
      "        \"successful_launches\": 0,\n",
      "        \"vehicles_launched\": [\n",
      "            \"Falcon 9\"\n",
      "        ],\n",
      "        \"wikipedia\": \"https://en.wikipedia.org/wiki/SpaceX_South_Texas_Launch_Site\"\n",
      "    },\n",
      "    {\n",
      "        \"attempted_launches\": 5,\n",
      "        \"details\": \"SpaceX original launch site, where all of the Falcon 1 launches occured. Abandoned as SpaceX decided against upgrading the pad to support Falcon 9.\",\n",
      "        \"full_name\": \"Kwajalein Atoll Omelek Island\",\n",
      "        \"id\": \"kwajalein_atoll\",\n",
      "        \"location\": {\n",
      "            \"latitude\": 9.0477206,\n",
      "            \"longitude\": 167.7431292,\n",
      "            \"name\": \"Omelek Island\",\n",
      "            \"region\": \"Marshall Islands\"\n",
      "        },\n",
      "        \"name\": \"Kwajalein Atoll\",\n",
      "        \"padid\": 1,\n",
      "        \"status\": \"retired\",\n",
      "        \"successful_launches\": 2,\n",
      "        \"vehicles_launched\": [\n",
      "            \"Falcon 1\"\n",
      "        ],\n",
      "        \"wikipedia\": \"https://en.wikipedia.org/wiki/Omelek_Island\"\n",
      "    },\n",
      "    {\n",
      "        \"attempted_launches\": 16,\n",
      "        \"details\": \"SpaceX primary west coast launch pad for polar orbits and sun synchronous orbits, primarily used for Iridium. Also intended to be capable of launching Falcon Heavy.\",\n",
      "        \"full_name\": \"Vandenberg Air Force Base Space Launch Complex 4E\",\n",
      "        \"id\": \"vafb_slc_4e\",\n",
      "        \"location\": {\n",
      "            \"latitude\": 34.632093,\n",
      "            \"longitude\": -120.610829,\n",
      "            \"name\": \"Vandenberg Air Force Base\",\n",
      "            \"region\": \"California\"\n",
      "        },\n",
      "        \"name\": \"VAFB SLC 4E\",\n",
      "        \"padid\": 6,\n",
      "        \"status\": \"active\",\n",
      "        \"successful_launches\": 16,\n",
      "        \"vehicles_launched\": [\n",
      "            \"Falcon 9\"\n",
      "        ],\n",
      "        \"wikipedia\": \"https://en.wikipedia.org/wiki/Vandenberg_AFB_Space_Launch_Complex_4\"\n",
      "    },\n",
      "    {\n",
      "        \"attempted_launches\": 27,\n",
      "        \"details\": \"NASA historic launch pad that launched most of the Saturn V and Space Shuttle missions. Initially for Falcon Heavy launches, it is now launching all of SpaceX east coast missions due to the damage from the AMOS-6 anomaly. After SLC-40 repairs are complete, it will be upgraded to support Falcon Heavy, a process which will take about two months. In the future it will launch commercial crew missions and the Interplanetary Transport System.\",\n",
      "        \"full_name\": \"Kennedy Space Center Historic Launch Complex 39A\",\n",
      "        \"id\": \"ksc_lc_39a\",\n",
      "        \"location\": {\n",
      "            \"latitude\": 28.6080585,\n",
      "            \"longitude\": -80.6039558,\n",
      "            \"name\": \"Cape Canaveral\",\n",
      "            \"region\": \"Florida\"\n",
      "        },\n",
      "        \"name\": \"KSC LC 39A\",\n",
      "        \"padid\": 4,\n",
      "        \"status\": \"active\",\n",
      "        \"successful_launches\": 26,\n",
      "        \"vehicles_launched\": [\n",
      "            \"Falcon 9\",\n",
      "            \"Falcon Heavy\"\n",
      "        ],\n",
      "        \"wikipedia\": \"https://en.wikipedia.org/wiki/Kennedy_Space_Center_Launch_Complex_39#Launch_Complex_39A\"\n",
      "    }\n",
      "]\n"
     ]
    }
   ],
   "source": [
    "# Pretty Print the output of the JSON\n",
    "response = requests.get(url).json()\n",
    "print(json.dumps(response, indent=4, sort_keys=True))"
   ]
  },
  {
   "cell_type": "code",
   "execution_count": null,
   "metadata": {},
   "outputs": [],
   "source": []
  }
 ],
 "metadata": {
  "kernelspec": {
   "display_name": "Python 3 (ipykernel)",
   "language": "python",
   "name": "python3"
  },
  "language_info": {
   "codemirror_mode": {
    "name": "ipython",
    "version": 3
   },
   "file_extension": ".py",
   "mimetype": "text/x-python",
   "name": "python",
   "nbconvert_exporter": "python",
   "pygments_lexer": "ipython3",
   "version": "3.9.9"
  },
  "varInspector": {
   "cols": {
    "lenName": 16,
    "lenType": 16,
    "lenVar": 40
   },
   "kernels_config": {
    "python": {
     "delete_cmd_postfix": "",
     "delete_cmd_prefix": "del ",
     "library": "var_list.py",
     "varRefreshCmd": "print(var_dic_list())"
    },
    "r": {
     "delete_cmd_postfix": ") ",
     "delete_cmd_prefix": "rm(",
     "library": "var_list.r",
     "varRefreshCmd": "cat(var_dic_list()) "
    }
   },
   "types_to_exclude": [
    "module",
    "function",
    "builtin_function_or_method",
    "instance",
    "_Feature"
   ],
   "window_display": false
  }
 },
 "nbformat": 4,
 "nbformat_minor": 2
}

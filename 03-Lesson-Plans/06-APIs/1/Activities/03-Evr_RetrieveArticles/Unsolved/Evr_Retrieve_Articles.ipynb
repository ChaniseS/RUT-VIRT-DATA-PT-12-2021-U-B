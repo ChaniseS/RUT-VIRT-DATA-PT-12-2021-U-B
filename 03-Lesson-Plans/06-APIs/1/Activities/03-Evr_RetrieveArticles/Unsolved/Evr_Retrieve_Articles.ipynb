{
 "cells": [
  {
   "cell_type": "code",
   "execution_count": 8,
   "metadata": {},
   "outputs": [],
   "source": [
    "# Dependencies\n",
    "import requests\n",
    "from config import api_key\n",
    "\n",
    "url = \"https://api.nytimes.com/svc/search/v2/articlesearch.json?\"\n",
    "\n",
    "# Store a search term\n",
    "\n",
    "query = \"sports\"\n",
    "\n",
    "# Search for articles published between a begin and end date\n",
    "begin_date = \"20210601\"\n",
    "end_date = \"20210701\"\n",
    "\n",
    "# Build url\n",
    "query_url = f\"{url}api-key={api_key}&q={query}&begin_date{begin_date}&end_date{end_date}\""
   ]
  },
  {
   "cell_type": "code",
   "execution_count": 12,
   "metadata": {},
   "outputs": [
    {
     "name": "stdout",
     "output_type": "stream",
     "text": [
      "A snippet from the article: Here’s what sports marketers are doing to win back a lost generation and save the future of fandom.\n",
      "-----------------------\n",
      "A snippet from the article: The deal could help the media company reach its goal of 10 million subscriptions ahead of schedule.\n",
      "-----------------------\n",
      "A snippet from the article: Christine Grant, the Title IX pioneer who died in December, often lamented the historically poor treatment of female athletes, asking incredulously, “Can you imagine that?”\n",
      "-----------------------\n",
      "A snippet from the article: The law targets people who would skirt doping regulations in international competitions, but it does not apply to major American leagues like the N.F.L. and Major League Baseball.\n",
      "-----------------------\n",
      "A snippet from the article: Canada and Sweden mandate neck protection for amateurs, but U.S.A. Hockey only recommends players wear neck guards. Teddy Balkind’s death could change that.\n",
      "-----------------------\n",
      "A snippet from the article: Cameroon’s 25-year-old goalkeeper has already had his career interrupted twice by bans. Now he’s back, and eager to move on.\n",
      "-----------------------\n",
      "A snippet from the article: With the opening of the Winter Games three weeks away, officials in China are on high alert amid coronavirus outbreaks around the country.\n",
      "-----------------------\n",
      "A snippet from the article: Only one of these teams will prove us wrong.\n",
      "-----------------------\n",
      "A snippet from the article: Recent huddles among the sport’s leaders have shown how much television drives their thinking.\n",
      "-----------------------\n",
      "A snippet from the article: Teddy Balkind, a sophomore at St. Luke’s School, died after he fell and his neck was cut by another player’s skate, police and school officials said.\n",
      "-----------------------\n"
     ]
    }
   ],
   "source": [
    "# Retrieve articles\n",
    "\n",
    "articles = requests.get(query_url).json()\n",
    "\n",
    "articles_list = articles[\"response\"][\"docs\"]\n",
    "\n",
    "for article in articles_list:\n",
    "    print(f'A snippet from the article: {article[\"snippet\"]}')\n",
    "    print (\"-----------------------\")\n",
    "\n"
   ]
  },
  {
   "cell_type": "code",
   "execution_count": null,
   "metadata": {},
   "outputs": [],
   "source": [
    "# BONUS: How would we get 30 results? \n",
    "# HINT: Look up the page query param"
   ]
  }
 ],
 "metadata": {
  "kernelspec": {
   "display_name": "Python 3 (ipykernel)",
   "language": "python",
   "name": "python3"
  },
  "language_info": {
   "codemirror_mode": {
    "name": "ipython",
    "version": 3
   },
   "file_extension": ".py",
   "mimetype": "text/x-python",
   "name": "python",
   "nbconvert_exporter": "python",
   "pygments_lexer": "ipython3",
   "version": "3.10.2"
  },
  "varInspector": {
   "cols": {
    "lenName": 16,
    "lenType": 16,
    "lenVar": 40
   },
   "kernels_config": {
    "python": {
     "delete_cmd_postfix": "",
     "delete_cmd_prefix": "del ",
     "library": "var_list.py",
     "varRefreshCmd": "print(var_dic_list())"
    },
    "r": {
     "delete_cmd_postfix": ") ",
     "delete_cmd_prefix": "rm(",
     "library": "var_list.r",
     "varRefreshCmd": "cat(var_dic_list()) "
    }
   },
   "types_to_exclude": [
    "module",
    "function",
    "builtin_function_or_method",
    "instance",
    "_Feature"
   ],
   "window_display": false
  }
 },
 "nbformat": 4,
 "nbformat_minor": 2
}
